{
 "cells": [
  {
   "cell_type": "markdown",
   "metadata": {},
   "source": [
    "there are some useful terms and definitions we should learn before delving into NLP and how words are represented. because some inner characteristics of language make some specific things difficult.\n",
    "\n",
    "let's begin by introducing some \n",
    "lexic\n",
    "\n",
    "\n",
    "\t•\tlexical -> refers\n",
    "\t•\tsemantics\n",
    "\t•\tlemma\n",
    "\t•\tcitation form\n",
    "\t•\twordform\n",
    "\t•\tword sense\n",
    "\t•\tsynonym\n",
    "\t•\tprinciple of contrast\n",
    "\t•\tsimilarity\n",
    "\t•\trelatedness\n",
    "\t•\tassociation\n",
    "\t•\tsemantic field\n",
    "\t•\ttopic model\n",
    "\t•\tsemantic frame\n",
    "\t•\tsemantic role\n",
    "\t•\tconnotation\n",
    "\t•\tsentiment\n",
    "\t•\tvalence\n",
    "\t•\tarousal\n",
    "\t•\tdominance\n",
    "\n",
    "Would you also like me to make you a simple table you can fill in by hand to make it even easier to quiz yourself? 📄✨"
   ]
  }
 ],
 "metadata": {
  "language_info": {
   "name": "python"
  }
 },
 "nbformat": 4,
 "nbformat_minor": 2
}
