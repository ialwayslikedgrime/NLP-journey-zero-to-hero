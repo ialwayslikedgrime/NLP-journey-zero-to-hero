{
 "cells": [
  {
   "cell_type": "code",
   "execution_count": null,
   "metadata": {},
   "outputs": [],
   "source": []
  },
  {
   "cell_type": "markdown",
   "metadata": {},
   "source": [
    "Books:\n",
    "\n",
    "Hands-on machine learning\n",
    "\n",
    "Papers:\n",
    "Attention is all you need\n",
    "\n",
    "Platforms\n",
    "HuggingFace"
   ]
  }
 ],
 "metadata": {
  "language_info": {
   "name": "python"
  }
 },
 "nbformat": 4,
 "nbformat_minor": 2
}
